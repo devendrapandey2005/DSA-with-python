{
  "nbformat": 4,
  "nbformat_minor": 0,
  "metadata": {
    "colab": {
      "provenance": [],
      "authorship_tag": "ABX9TyMGcPmebwiNc7ZKs7L30cJ4",
      "include_colab_link": true
    },
    "kernelspec": {
      "name": "python3",
      "display_name": "Python 3"
    },
    "language_info": {
      "name": "python"
    }
  },
  "cells": [
    {
      "cell_type": "markdown",
      "metadata": {
        "id": "view-in-github",
        "colab_type": "text"
      },
      "source": [
        "<a href=\"https://colab.research.google.com/github/devendrapandey2005/DSA-with-python/blob/main/DSA.ipynb\" target=\"_parent\"><img src=\"https://colab.research.google.com/assets/colab-badge.svg\" alt=\"Open In Colab\"/></a>"
      ]
    },
    {
      "cell_type": "code",
      "execution_count": null,
      "metadata": {
        "colab": {
          "base_uri": "https://localhost:8080/"
        },
        "id": "tgrSmT34CoV6",
        "outputId": "42891d7b-1f63-42be-cdc6-00b1e4d5bfe4"
      },
      "outputs": [
        {
          "output_type": "stream",
          "name": "stdout",
          "text": [
            "3\n",
            "7\n",
            "8\n",
            "5\n"
          ]
        }
      ],
      "source": [
        "#count digit\n",
        "n = 5873 # Changed n to an integer\n",
        "num = n\n",
        "while num > 0:\n",
        "  last_digit = num % 10\n",
        "  print(last_digit)\n",
        "  num = num // 10"
      ]
    },
    {
      "cell_type": "code",
      "source": [
        "#count digit\n",
        "n = 5873 # Changed n to an integer\n",
        "num = n\n",
        "count = 0\n",
        "while num > 0:\n",
        "  '''last_digit = num % 10\n",
        "  print(last_digit)'''\n",
        "  count +=1\n",
        "  num = num // 10\n",
        "print(count)"
      ],
      "metadata": {
        "colab": {
          "base_uri": "https://localhost:8080/"
        },
        "id": "8MIddasICsDU",
        "outputId": "38c64047-a624-41f4-fc8f-0db3879c4c39"
      },
      "execution_count": null,
      "outputs": [
        {
          "output_type": "stream",
          "name": "stdout",
          "text": [
            "4\n"
          ]
        }
      ]
    },
    {
      "cell_type": "code",
      "source": [
        "# check palindrom\n",
        "n = 12345\n",
        "num = n\n",
        "result = 0\n",
        "while num>0:\n",
        "  ld = num%10\n",
        "  result = (result*10)+ld\n",
        "  num = num//10\n",
        "  if result == n:\n",
        "    print(\"palindrom\")\n",
        "  else :\n",
        "    print('not palidrom')"
      ],
      "metadata": {
        "colab": {
          "base_uri": "https://localhost:8080/"
        },
        "id": "A7SHrKScCsy2",
        "outputId": "d0941915-f62b-4182-e98f-58a355113b97"
      },
      "execution_count": null,
      "outputs": [
        {
          "output_type": "stream",
          "name": "stdout",
          "text": [
            "not palidrom\n",
            "not palidrom\n",
            "not palidrom\n",
            "not palidrom\n",
            "not palidrom\n"
          ]
        }
      ]
    },
    {
      "cell_type": "code",
      "source": [
        "#armstrong number\n",
        "n = 153\n",
        "num = n\n",
        "total = 0\n",
        "nod = len(str(n))\n",
        "while num >0:\n",
        "  ld = num%10\n",
        "  total = total + (ld ** nod)\n",
        "  num = num//10\n",
        "if total == n:\n",
        "  print(\"it is a armstrong number\")\n",
        "else:\n",
        "  print(\"not a armstrong number\")"
      ],
      "metadata": {
        "colab": {
          "base_uri": "https://localhost:8080/"
        },
        "id": "is6yGKNNCums",
        "outputId": "1298b69c-5506-494c-c0fd-0726f273e656"
      },
      "execution_count": null,
      "outputs": [
        {
          "output_type": "stream",
          "name": "stdout",
          "text": [
            "it is a armstrong number\n"
          ]
        }
      ]
    },
    {
      "cell_type": "code",
      "source": [
        "#print factors of given number\n",
        "#this is for brute force\n",
        "num = 20\n",
        "result =[]\n",
        "for i in range(1,num+1):\n",
        "  if num%i == 0:\n",
        "    result.append(i)\n",
        "print(result)"
      ],
      "metadata": {
        "colab": {
          "base_uri": "https://localhost:8080/"
        },
        "id": "CEqaklL8Cw7d",
        "outputId": "84c0d21a-9d73-464c-e40a-5f89829dbd6a"
      },
      "execution_count": null,
      "outputs": [
        {
          "output_type": "stream",
          "name": "stdout",
          "text": [
            "[1, 2, 4, 5, 10, 20]\n"
          ]
        }
      ]
    },
    {
      "cell_type": "code",
      "source": [
        "#print factors of given number\n",
        "#this is better solution\n",
        "num = 20\n",
        "result =[]\n",
        "for i in range(1,num//2):\n",
        "  if num%i == 0:\n",
        "    result.append(i)\n",
        "result.append(num)\n",
        "print(result)"
      ],
      "metadata": {
        "colab": {
          "base_uri": "https://localhost:8080/"
        },
        "id": "9qkmlwYUGF6q",
        "outputId": "e4a91d61-b8b6-4de2-c3a2-611b3960c939"
      },
      "execution_count": null,
      "outputs": [
        {
          "output_type": "stream",
          "name": "stdout",
          "text": [
            "[1, 2, 4, 5, 20]\n"
          ]
        }
      ]
    },
    {
      "cell_type": "code",
      "source": [
        "#frequency map\n",
        "# mathod 1\n",
        "num = [5,6,7,7,1,9,111,1,1,5,1,1]\n",
        "freq_map = {}\n",
        "for i in range(0,len(num)):\n",
        "  if num[i] in freq_map:\n",
        "    freq_map[num[i]] += 1\n",
        "  else:\n",
        "    freq_map[num[i]]=1\n",
        "print(freq_map)"
      ],
      "metadata": {
        "colab": {
          "base_uri": "https://localhost:8080/"
        },
        "id": "n2oFZV28JP5Y",
        "outputId": "3b9d6c4a-f112-49cf-b9b1-082f24fba461"
      },
      "execution_count": 19,
      "outputs": [
        {
          "output_type": "stream",
          "name": "stdout",
          "text": [
            "{5: 2, 6: 1, 7: 2, 1: 5, 9: 1, 111: 1}\n"
          ]
        }
      ]
    },
    {
      "cell_type": "code",
      "source": [
        "#method 2\n",
        "hash_map = {}\n",
        "n = len(num)\n",
        "for i in range (0,n):\n",
        "  hash_map[num[i]] = hash_map.get(num[i],0)+1\n",
        "print(hash_map)"
      ],
      "metadata": {
        "id": "MduVO8Ft9OA4",
        "colab": {
          "base_uri": "https://localhost:8080/"
        },
        "outputId": "1c5e8f6c-56d7-46d0-d441-c9c19c8303bb"
      },
      "execution_count": 4,
      "outputs": [
        {
          "output_type": "stream",
          "name": "stdout",
          "text": [
            "{1: 5, 5: 2, 6: 1, 7: 2, 9: 1, 111: 1}\n"
          ]
        }
      ]
    },
    {
      "cell_type": "code",
      "source": [
        "#hashing\n",
        "#brute mathod\n",
        "n = [5,3,2,2,1,5,5,7,5,10]\n",
        "m = [10,111,1,9,5,67,2]\n",
        "for num in m:\n",
        "  count = 0\n",
        "  for x in n:\n",
        "    if x == num:\n",
        "      count += 1\n",
        "  print(\" \",count)"
      ],
      "metadata": {
        "colab": {
          "base_uri": "https://localhost:8080/"
        },
        "id": "I852o3BCMCGe",
        "outputId": "9b996c8f-0596-4f41-f5a6-b6c9216f3431"
      },
      "execution_count": 12,
      "outputs": [
        {
          "output_type": "stream",
          "name": "stdout",
          "text": [
            "  1\n",
            "  0\n",
            "  1\n",
            "  0\n",
            "  4\n",
            "  0\n",
            "  2\n"
          ]
        }
      ]
    },
    {
      "cell_type": "code",
      "source": [
        "n = [5,3,2,2,1,5,5,7,5,10]\n",
        "m = [10,111,1,9,5,67,2]\n",
        "hash_list = [0]*11\n",
        "for num in n:\n",
        "  hash_list[num]+=1\n",
        "for num in m:\n",
        "  if num < 1 or num > 10:\n",
        "    print(0)\n",
        "  else :\n",
        "    print(hash_list[num])"
      ],
      "metadata": {
        "colab": {
          "base_uri": "https://localhost:8080/"
        },
        "id": "50gQvzx4S-i1",
        "outputId": "fbab665a-9151-4200-b820-280af4fe0c33"
      },
      "execution_count": 14,
      "outputs": [
        {
          "output_type": "stream",
          "name": "stdout",
          "text": [
            "1\n",
            "0\n",
            "1\n",
            "0\n",
            "4\n",
            "0\n",
            "2\n"
          ]
        }
      ]
    },
    {
      "cell_type": "code",
      "source": [
        "#for optimal method\n",
        "n = [5,3,2,2,1,5,5,7,5,10]\n",
        "m = [10,111,1,9,5,67,2]\n",
        "hash_list = [0] * 11\n",
        "for num in n:\n",
        "    if 0 <= num <= 10:\n",
        "        hash_list[num] += 1\n",
        "for num in m:\n",
        "    if 0 <= num <= 10:\n",
        "        print(f\"The number {num} appears {hash_list[num]} times in list n.\")\n",
        "    else:\n",
        "        print(f\"The number {num} is outside the range [0, 10] and does not appear in the frequency count.\")"
      ],
      "metadata": {
        "colab": {
          "base_uri": "https://localhost:8080/"
        },
        "id": "o3fkeGBqPz6t",
        "outputId": "64ae9b7c-9d54-4f22-fd3f-16c0be2aa955"
      },
      "execution_count": 11,
      "outputs": [
        {
          "output_type": "stream",
          "name": "stdout",
          "text": [
            "The number 10 appears 1 times in list n.\n",
            "The number 111 is outside the range [0, 10] and does not appear in the frequency count.\n",
            "The number 1 appears 1 times in list n.\n",
            "The number 9 appears 0 times in list n.\n",
            "The number 5 appears 4 times in list n.\n",
            "The number 67 is outside the range [0, 10] and does not appear in the frequency count.\n",
            "The number 2 appears 2 times in list n.\n"
          ]
        }
      ]
    },
    {
      "cell_type": "code",
      "source": [
        "lst1 = [3, 3, 4, 5, 6, 7, 9, 6, 10]\n",
        "list2 = [10, 44, 55, 1, 2, 88, 9, 6, 20]\n",
        "#using dictionary method 3\n",
        "count_dict = {}\n",
        "for num in lst1:\n",
        "    if num in count_dict:\n",
        "        count_dict[num] += 1\n",
        "    else:\n",
        "        count_dict[num] = 1\n",
        "for num in list2:\n",
        "    count = count_dict.get(num, 0)\n",
        "    print(f\"{num} appears {count} time(s) in list1\")"
      ],
      "metadata": {
        "colab": {
          "base_uri": "https://localhost:8080/"
        },
        "id": "r9jv0fDHSdO-",
        "outputId": "12694195-b9ad-416a-a4cf-6fffbf0d1e1d"
      },
      "execution_count": 16,
      "outputs": [
        {
          "output_type": "stream",
          "name": "stdout",
          "text": [
            "10 appears 1 time(s) in list1\n",
            "44 appears 0 time(s) in list1\n",
            "55 appears 0 time(s) in list1\n",
            "1 appears 0 time(s) in list1\n",
            "2 appears 0 time(s) in list1\n",
            "88 appears 0 time(s) in list1\n",
            "9 appears 1 time(s) in list1\n",
            "6 appears 2 time(s) in list1\n",
            "20 appears 0 time(s) in list1\n"
          ]
        }
      ]
    },
    {
      "cell_type": "code",
      "source": [
        "#character hashing\n",
        "s = \"azyxyyzaaaa\"\n",
        "q = [\"d\",\"a\",\"y\",\"x\"]\n",
        "hash_list = [0]*26\n",
        "for ch in s:\n",
        "  ascii_value = ord(ch)\n",
        "  index = ascii_value - 97\n",
        "  hash_list[index] +=1\n",
        "for ch in q:\n",
        "  ascii_value = ord(ch)\n",
        "  index = ascii_value - 97\n",
        "  print(hash_list[index])"
      ],
      "metadata": {
        "colab": {
          "base_uri": "https://localhost:8080/"
        },
        "id": "6bHKi9EXVow2",
        "outputId": "d83618b9-511a-4bfb-d2f1-cf449abf38ef"
      },
      "execution_count": 18,
      "outputs": [
        {
          "output_type": "stream",
          "name": "stdout",
          "text": [
            "0\n",
            "5\n",
            "3\n",
            "1\n"
          ]
        }
      ]
    },
    {
      "cell_type": "code",
      "source": [],
      "metadata": {
        "id": "rbaTyrH2dOcu"
      },
      "execution_count": null,
      "outputs": []
    }
  ]
}