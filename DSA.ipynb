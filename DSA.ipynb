{
  "nbformat": 4,
  "nbformat_minor": 0,
  "metadata": {
    "colab": {
      "provenance": [],
      "authorship_tag": "ABX9TyMZB8S9wcz/Z7OL8eDV6pDy",
      "include_colab_link": true
    },
    "kernelspec": {
      "name": "python3",
      "display_name": "Python 3"
    },
    "language_info": {
      "name": "python"
    }
  },
  "cells": [
    {
      "cell_type": "markdown",
      "metadata": {
        "id": "view-in-github",
        "colab_type": "text"
      },
      "source": [
        "<a href=\"https://colab.research.google.com/github/devendrapandey2005/DSA-with-python/blob/main/DSA.ipynb\" target=\"_parent\"><img src=\"https://colab.research.google.com/assets/colab-badge.svg\" alt=\"Open In Colab\"/></a>"
      ]
    },
    {
      "cell_type": "code",
      "execution_count": 1,
      "metadata": {
        "colab": {
          "base_uri": "https://localhost:8080/"
        },
        "id": "tgrSmT34CoV6",
        "outputId": "fbbf89ea-ed35-43d9-d39e-dfff2366ea95"
      },
      "outputs": [
        {
          "output_type": "stream",
          "name": "stdout",
          "text": [
            "3\n",
            "7\n",
            "8\n",
            "5\n"
          ]
        }
      ],
      "source": [
        "#count digit\n",
        "n = 5873 # Changed n to an integer\n",
        "num = n\n",
        "while num > 0:\n",
        "  last_digit = num % 10\n",
        "  print(last_digit)\n",
        "  num = num // 10"
      ]
    },
    {
      "cell_type": "code",
      "source": [
        "#count digit\n",
        "n = 5873 # Changed n to an integer\n",
        "num = n\n",
        "count = 0\n",
        "while num > 0:\n",
        "  '''last_digit = num % 10\n",
        "  print(last_digit)'''\n",
        "  count +=1\n",
        "  num = num // 10\n",
        "print(count)"
      ],
      "metadata": {
        "colab": {
          "base_uri": "https://localhost:8080/"
        },
        "id": "8MIddasICsDU",
        "outputId": "acaa4025-d209-4746-8ee0-8209a70c2a2e"
      },
      "execution_count": 2,
      "outputs": [
        {
          "output_type": "stream",
          "name": "stdout",
          "text": [
            "4\n"
          ]
        }
      ]
    },
    {
      "cell_type": "code",
      "source": [
        "# check palindrom\n",
        "n = 12345\n",
        "num = n\n",
        "result = 0\n",
        "while num>0:\n",
        "  ld = num%10\n",
        "  result = (result*10)+ld\n",
        "  num = num//10\n",
        "  if result == n:\n",
        "    print(\"palindrom\")\n",
        "  else :\n",
        "    print('not palidrom')"
      ],
      "metadata": {
        "colab": {
          "base_uri": "https://localhost:8080/"
        },
        "id": "A7SHrKScCsy2",
        "outputId": "ee45dab1-3520-4257-e00b-4077ff4f1f5c"
      },
      "execution_count": 3,
      "outputs": [
        {
          "output_type": "stream",
          "name": "stdout",
          "text": [
            "not palidrom\n",
            "not palidrom\n",
            "not palidrom\n",
            "not palidrom\n",
            "not palidrom\n"
          ]
        }
      ]
    },
    {
      "cell_type": "code",
      "source": [
        "#armstrong number\n",
        "n = 153\n",
        "num = n\n",
        "total = 0\n",
        "nod = len(str(n))\n",
        "while num >0:\n",
        "  ld = num%10\n",
        "  total = total + (ld ** nod)\n",
        "  num = num//10\n",
        "if total == n:\n",
        "  print(\"it is a armstrong number\")\n",
        "else:\n",
        "  print(\"not a armstrong number\")"
      ],
      "metadata": {
        "colab": {
          "base_uri": "https://localhost:8080/"
        },
        "id": "is6yGKNNCums",
        "outputId": "2f3d3fb1-e52f-4a1c-d44e-3970c8d965c5"
      },
      "execution_count": 4,
      "outputs": [
        {
          "output_type": "stream",
          "name": "stdout",
          "text": [
            "it is a armstrong number\n"
          ]
        }
      ]
    },
    {
      "cell_type": "code",
      "source": [
        "#print factors of given number\n",
        "#this is for brute force\n",
        "num = 20\n",
        "result =[]\n",
        "for i in range(1,num+1):\n",
        "  if num%i == 0:\n",
        "    result.append(i)\n",
        "print(result)"
      ],
      "metadata": {
        "colab": {
          "base_uri": "https://localhost:8080/"
        },
        "id": "CEqaklL8Cw7d",
        "outputId": "7ebb6026-aa06-40d2-f6df-1560ebb5fc1c"
      },
      "execution_count": 5,
      "outputs": [
        {
          "output_type": "stream",
          "name": "stdout",
          "text": [
            "[1, 2, 4, 5, 10, 20]\n"
          ]
        }
      ]
    },
    {
      "cell_type": "code",
      "source": [
        "#print factors of given number\n",
        "#this is better solution\n",
        "num = 20\n",
        "result =[]\n",
        "for i in range(1,num//2):\n",
        "  if num%i == 0:\n",
        "    result.append(i)\n",
        "result.append(num)\n",
        "print(result)"
      ],
      "metadata": {
        "colab": {
          "base_uri": "https://localhost:8080/"
        },
        "id": "9qkmlwYUGF6q",
        "outputId": "edcb9e8f-0469-4825-a18d-dedf5dca8e15"
      },
      "execution_count": 6,
      "outputs": [
        {
          "output_type": "stream",
          "name": "stdout",
          "text": [
            "[1, 2, 4, 5, 20]\n"
          ]
        }
      ]
    },
    {
      "cell_type": "code",
      "source": [
        "#frequency map\n",
        "# mathod 1\n",
        "num = [5,6,7,7,1,9,111,1,1,5,1,1]\n",
        "freq_map = {}\n",
        "for i in range(0,len(num)):\n",
        "  if num[i] in freq_map:\n",
        "    freq_map[num[i]] += 1\n",
        "  else:\n",
        "    freq_map[num[i]]=1\n",
        "print(freq_map)"
      ],
      "metadata": {
        "colab": {
          "base_uri": "https://localhost:8080/"
        },
        "id": "n2oFZV28JP5Y",
        "outputId": "46a291fb-33b8-42d4-e59e-6b4b2dae450a"
      },
      "execution_count": 7,
      "outputs": [
        {
          "output_type": "stream",
          "name": "stdout",
          "text": [
            "{5: 2, 6: 1, 7: 2, 1: 5, 9: 1, 111: 1}\n"
          ]
        }
      ]
    },
    {
      "cell_type": "code",
      "source": [
        "#method 2\n",
        "hash_map = {}\n",
        "n = len(num)\n",
        "for i in range (0,n):\n",
        "  hash_map[num[i]] = hash_map.get(num[i],0)+1\n",
        "print(hash_map)"
      ],
      "metadata": {
        "id": "MduVO8Ft9OA4",
        "colab": {
          "base_uri": "https://localhost:8080/"
        },
        "outputId": "a2bd68de-2f75-46b6-bd8a-eab71bd2b22d"
      },
      "execution_count": 8,
      "outputs": [
        {
          "output_type": "stream",
          "name": "stdout",
          "text": [
            "{5: 2, 6: 1, 7: 2, 1: 5, 9: 1, 111: 1}\n"
          ]
        }
      ]
    },
    {
      "cell_type": "code",
      "source": [
        "#hashing\n",
        "#brute mathod\n",
        "n = [5,3,2,2,1,5,5,7,5,10]\n",
        "m = [10,111,1,9,5,67,2]\n",
        "for num in m:\n",
        "  count = 0\n",
        "  for x in n:\n",
        "    if x == num:\n",
        "      count += 1\n",
        "  print(\" \",count)"
      ],
      "metadata": {
        "colab": {
          "base_uri": "https://localhost:8080/"
        },
        "id": "I852o3BCMCGe",
        "outputId": "ac45d950-0d98-4a00-a7c6-293bc4e8441d"
      },
      "execution_count": 9,
      "outputs": [
        {
          "output_type": "stream",
          "name": "stdout",
          "text": [
            "  1\n",
            "  0\n",
            "  1\n",
            "  0\n",
            "  4\n",
            "  0\n",
            "  2\n"
          ]
        }
      ]
    },
    {
      "cell_type": "code",
      "source": [
        "n = [5,3,2,2,1,5,5,7,5,10]\n",
        "m = [10,111,1,9,5,67,2]\n",
        "hash_list = [0]*11\n",
        "for num in n:\n",
        "  hash_list[num]+=1\n",
        "for num in m:\n",
        "  if num < 1 or num > 10:\n",
        "    print(0)\n",
        "  else :\n",
        "    print(hash_list[num])"
      ],
      "metadata": {
        "colab": {
          "base_uri": "https://localhost:8080/"
        },
        "id": "50gQvzx4S-i1",
        "outputId": "6360e737-747a-4539-df44-02a7e37e274d"
      },
      "execution_count": 10,
      "outputs": [
        {
          "output_type": "stream",
          "name": "stdout",
          "text": [
            "1\n",
            "0\n",
            "1\n",
            "0\n",
            "4\n",
            "0\n",
            "2\n"
          ]
        }
      ]
    },
    {
      "cell_type": "code",
      "source": [
        "#for optimal method\n",
        "n = [5,3,2,2,1,5,5,7,5,10]\n",
        "m = [10,111,1,9,5,67,2]\n",
        "hash_list = [0] * 11\n",
        "for num in n:\n",
        "    if 0 <= num <= 10:\n",
        "        hash_list[num] += 1\n",
        "for num in m:\n",
        "    if 0 <= num <= 10:\n",
        "        print(f\"The number {num} appears {hash_list[num]} times in list n.\")\n",
        "    else:\n",
        "        print(f\"The number {num} is outside the range [0, 10] and does not appear in the frequency count.\")"
      ],
      "metadata": {
        "colab": {
          "base_uri": "https://localhost:8080/"
        },
        "id": "o3fkeGBqPz6t",
        "outputId": "0fc2d16c-d822-4053-ae1d-7d25271bee24"
      },
      "execution_count": 11,
      "outputs": [
        {
          "output_type": "stream",
          "name": "stdout",
          "text": [
            "The number 10 appears 1 times in list n.\n",
            "The number 111 is outside the range [0, 10] and does not appear in the frequency count.\n",
            "The number 1 appears 1 times in list n.\n",
            "The number 9 appears 0 times in list n.\n",
            "The number 5 appears 4 times in list n.\n",
            "The number 67 is outside the range [0, 10] and does not appear in the frequency count.\n",
            "The number 2 appears 2 times in list n.\n"
          ]
        }
      ]
    },
    {
      "cell_type": "code",
      "source": [
        "lst1 = [3, 3, 4, 5, 6, 7, 9, 6, 10]\n",
        "list2 = [10, 44, 55, 1, 2, 88, 9, 6, 20]\n",
        "#using dictionary method 3\n",
        "count_dict = {}\n",
        "for num in lst1:\n",
        "    if num in count_dict:\n",
        "        count_dict[num] += 1\n",
        "    else:\n",
        "        count_dict[num] = 1\n",
        "for num in list2:\n",
        "    count = count_dict.get(num, 0)\n",
        "    print(f\"{num} appears {count} time(s) in list1\")"
      ],
      "metadata": {
        "colab": {
          "base_uri": "https://localhost:8080/"
        },
        "id": "r9jv0fDHSdO-",
        "outputId": "3128e460-2cd5-41bb-cadf-88366b79daa7"
      },
      "execution_count": 12,
      "outputs": [
        {
          "output_type": "stream",
          "name": "stdout",
          "text": [
            "10 appears 1 time(s) in list1\n",
            "44 appears 0 time(s) in list1\n",
            "55 appears 0 time(s) in list1\n",
            "1 appears 0 time(s) in list1\n",
            "2 appears 0 time(s) in list1\n",
            "88 appears 0 time(s) in list1\n",
            "9 appears 1 time(s) in list1\n",
            "6 appears 2 time(s) in list1\n",
            "20 appears 0 time(s) in list1\n"
          ]
        }
      ]
    },
    {
      "cell_type": "code",
      "source": [
        "#character hashing\n",
        "s = \"azyxyyzaaaa\"\n",
        "q = [\"d\",\"a\",\"y\",\"x\"]\n",
        "hash_list = [0]*26\n",
        "for ch in s:\n",
        "  ascii_value = ord(ch)\n",
        "  index = ascii_value - 97\n",
        "  hash_list[index] +=1\n",
        "for ch in q:\n",
        "  ascii_value = ord(ch)\n",
        "  index = ascii_value - 97\n",
        "  print(hash_list[index])"
      ],
      "metadata": {
        "colab": {
          "base_uri": "https://localhost:8080/"
        },
        "id": "6bHKi9EXVow2",
        "outputId": "8951f140-030d-456e-bffc-88b9edc6fc21"
      },
      "execution_count": 13,
      "outputs": [
        {
          "output_type": "stream",
          "name": "stdout",
          "text": [
            "0\n",
            "5\n",
            "3\n",
            "1\n"
          ]
        }
      ]
    },
    {
      "cell_type": "code",
      "source": [
        "# head recursion\n",
        "# print robin 5 times\n",
        "count = 0\n",
        "def func(count):\n",
        "  if count == 5:\n",
        "    return\n",
        "  print(\"robin\")\n",
        "  count +=1\n",
        "  func(count)\n",
        "func(count)"
      ],
      "metadata": {
        "id": "rbaTyrH2dOcu",
        "colab": {
          "base_uri": "https://localhost:8080/"
        },
        "outputId": "3887b15d-81d0-45a7-abc4-11f779197634"
      },
      "execution_count": 14,
      "outputs": [
        {
          "output_type": "stream",
          "name": "stdout",
          "text": [
            "robin\n",
            "robin\n",
            "robin\n",
            "robin\n",
            "robin\n"
          ]
        }
      ]
    },
    {
      "cell_type": "code",
      "source": [
        "#tail recursion\n",
        "count = 0\n",
        "def func(count):\n",
        "  if count == 4:\n",
        "    return\n",
        "  count +=1\n",
        "  func(count)\n",
        "  print(\"robinnnn\")\n",
        "func(count)"
      ],
      "metadata": {
        "colab": {
          "base_uri": "https://localhost:8080/"
        },
        "id": "qQ5Gn5P1rYiI",
        "outputId": "afb6945c-b38e-4eee-b5d0-aaffc6b3aa2f"
      },
      "execution_count": 15,
      "outputs": [
        {
          "output_type": "stream",
          "name": "stdout",
          "text": [
            "robinnnn\n",
            "robinnnn\n",
            "robinnnn\n",
            "robinnnn\n"
          ]
        }
      ]
    },
    {
      "cell_type": "code",
      "source": [
        "#recursion using parameter\n",
        "#print x n times\n",
        "def func(x, n):\n",
        "  if n == 0:\n",
        "    return\n",
        "  print(x)\n",
        "  func(x,n-1)\n",
        "func(15,5)"
      ],
      "metadata": {
        "id": "dgc_KEcotNVE",
        "colab": {
          "base_uri": "https://localhost:8080/"
        },
        "outputId": "c6e943d1-0622-4528-b194-dd758aa23176"
      },
      "execution_count": 16,
      "outputs": [
        {
          "output_type": "stream",
          "name": "stdout",
          "text": [
            "15\n",
            "15\n",
            "15\n",
            "15\n",
            "15\n"
          ]
        }
      ]
    },
    {
      "cell_type": "code",
      "source": [
        "# print 1 to n using recursion\n",
        "def func(i, n):\n",
        "    if i > n:\n",
        "        return\n",
        "    print(i)\n",
        "    func(i + 1, n)\n",
        "\n",
        "func(1, 4)"
      ],
      "metadata": {
        "colab": {
          "base_uri": "https://localhost:8080/"
        },
        "id": "SyOVgy_K53BU",
        "outputId": "65b289a7-30fa-4b04-db44-ea6ef5af26fe"
      },
      "execution_count": 17,
      "outputs": [
        {
          "output_type": "stream",
          "name": "stdout",
          "text": [
            "1\n",
            "2\n",
            "3\n",
            "4\n"
          ]
        }
      ]
    },
    {
      "cell_type": "code",
      "source": [
        "#using backtracking print n to 1\n",
        "def func(i,n):\n",
        "  if i < 1:\n",
        "    return\n",
        "  func(i-1,n)\n",
        "  print(i)\n",
        "func(4,4)"
      ],
      "metadata": {
        "colab": {
          "base_uri": "https://localhost:8080/"
        },
        "id": "eObW6Q7nBxP6",
        "outputId": "78af7abb-ef36-4b38-d5e4-e0867136db9b"
      },
      "execution_count": 18,
      "outputs": [
        {
          "output_type": "stream",
          "name": "stdout",
          "text": [
            "1\n",
            "2\n",
            "3\n",
            "4\n"
          ]
        }
      ]
    },
    {
      "cell_type": "code",
      "source": [
        "#parameterized and functional recursion\n",
        "#print sum of 1 to n\n",
        "def func(sum,i,n):\n",
        "  if i > n :\n",
        "    print(\"sum is =\",sum)\n",
        "    return\n",
        "  func(sum + i, i+1, n)\n",
        "func(0,1,4)"
      ],
      "metadata": {
        "id": "iEceFn8RC3tf",
        "colab": {
          "base_uri": "https://localhost:8080/"
        },
        "outputId": "87e89a7b-6d00-4403-ca23-ac13010130b9"
      },
      "execution_count": 20,
      "outputs": [
        {
          "output_type": "stream",
          "name": "stdout",
          "text": [
            "sum is = 10\n"
          ]
        }
      ]
    },
    {
      "cell_type": "code",
      "source": [
        "#functional\n",
        "def func(n):\n",
        "  if n == 0:\n",
        "    return 0\n",
        "  return n + func(n-1)\n",
        "print(func(4))"
      ],
      "metadata": {
        "colab": {
          "base_uri": "https://localhost:8080/"
        },
        "id": "6zWLVCE6cyKs",
        "outputId": "4d005869-814d-4bff-fefb-157d83594d5d"
      },
      "execution_count": 26,
      "outputs": [
        {
          "output_type": "stream",
          "name": "stdout",
          "text": [
            "10\n"
          ]
        }
      ]
    },
    {
      "cell_type": "code",
      "source": [],
      "metadata": {
        "id": "DW9HNvtPfdkQ"
      },
      "execution_count": null,
      "outputs": []
    }
  ]
}