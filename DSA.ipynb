{
  "nbformat": 4,
  "nbformat_minor": 0,
  "metadata": {
    "colab": {
      "provenance": [],
      "authorship_tag": "ABX9TyMiJCurYqqJVp8K+1uizYhF",
      "include_colab_link": true
    },
    "kernelspec": {
      "name": "python3",
      "display_name": "Python 3"
    },
    "language_info": {
      "name": "python"
    }
  },
  "cells": [
    {
      "cell_type": "markdown",
      "metadata": {
        "id": "view-in-github",
        "colab_type": "text"
      },
      "source": [
        "<a href=\"https://colab.research.google.com/github/devendrapandey2005/DSA-with-python/blob/main/DSA.ipynb\" target=\"_parent\"><img src=\"https://colab.research.google.com/assets/colab-badge.svg\" alt=\"Open In Colab\"/></a>"
      ]
    },
    {
      "cell_type": "code",
      "execution_count": 2,
      "metadata": {
        "colab": {
          "base_uri": "https://localhost:8080/"
        },
        "id": "tgrSmT34CoV6",
        "outputId": "42891d7b-1f63-42be-cdc6-00b1e4d5bfe4"
      },
      "outputs": [
        {
          "output_type": "stream",
          "name": "stdout",
          "text": [
            "3\n",
            "7\n",
            "8\n",
            "5\n"
          ]
        }
      ],
      "source": [
        "#count digit\n",
        "n = 5873 # Changed n to an integer\n",
        "num = n\n",
        "while num > 0:\n",
        "  last_digit = num % 10\n",
        "  print(last_digit)\n",
        "  num = num // 10"
      ]
    },
    {
      "cell_type": "code",
      "source": [
        "#count digit\n",
        "n = 5873 # Changed n to an integer\n",
        "num = n\n",
        "count = 0\n",
        "while num > 0:\n",
        "  '''last_digit = num % 10\n",
        "  print(last_digit)'''\n",
        "  count +=1\n",
        "  num = num // 10\n",
        "print(count)"
      ],
      "metadata": {
        "colab": {
          "base_uri": "https://localhost:8080/"
        },
        "id": "8MIddasICsDU",
        "outputId": "38c64047-a624-41f4-fc8f-0db3879c4c39"
      },
      "execution_count": 3,
      "outputs": [
        {
          "output_type": "stream",
          "name": "stdout",
          "text": [
            "4\n"
          ]
        }
      ]
    },
    {
      "cell_type": "code",
      "source": [
        "# check palindrom\n",
        "n = 12345\n",
        "num = n\n",
        "result = 0\n",
        "while num>0:\n",
        "  ld = num%10\n",
        "  result = (result*10)+ld\n",
        "  num = num//10\n",
        "  if result == n:\n",
        "    print(\"palindrom\")\n",
        "  else :\n",
        "    print('not palidrom')"
      ],
      "metadata": {
        "colab": {
          "base_uri": "https://localhost:8080/"
        },
        "id": "A7SHrKScCsy2",
        "outputId": "d0941915-f62b-4182-e98f-58a355113b97"
      },
      "execution_count": 4,
      "outputs": [
        {
          "output_type": "stream",
          "name": "stdout",
          "text": [
            "not palidrom\n",
            "not palidrom\n",
            "not palidrom\n",
            "not palidrom\n",
            "not palidrom\n"
          ]
        }
      ]
    },
    {
      "cell_type": "code",
      "source": [
        "#armstrong number\n",
        "n = 153\n",
        "num = n\n",
        "total = 0\n",
        "nod = len(str(n))\n",
        "while num >0:\n",
        "  ld = num%10\n",
        "  total = total + (ld ** nod)\n",
        "  num = num//10\n",
        "if total == n:\n",
        "  print(\"it is a armstrong number\")\n",
        "else:\n",
        "  print(\"not a armstrong number\")"
      ],
      "metadata": {
        "colab": {
          "base_uri": "https://localhost:8080/"
        },
        "id": "is6yGKNNCums",
        "outputId": "1298b69c-5506-494c-c0fd-0726f273e656"
      },
      "execution_count": 5,
      "outputs": [
        {
          "output_type": "stream",
          "name": "stdout",
          "text": [
            "it is a armstrong number\n"
          ]
        }
      ]
    },
    {
      "cell_type": "code",
      "source": [
        "#print factors of given number\n",
        "#this is for brute force\n",
        "num = 20\n",
        "result =[]\n",
        "for i in range(1,num+1):\n",
        "  if num%i == 0:\n",
        "    result.append(i)\n",
        "print(result)"
      ],
      "metadata": {
        "colab": {
          "base_uri": "https://localhost:8080/"
        },
        "id": "CEqaklL8Cw7d",
        "outputId": "84c0d21a-9d73-464c-e40a-5f89829dbd6a"
      },
      "execution_count": 8,
      "outputs": [
        {
          "output_type": "stream",
          "name": "stdout",
          "text": [
            "[1, 2, 4, 5, 10, 20]\n"
          ]
        }
      ]
    },
    {
      "cell_type": "code",
      "source": [
        "#print factors of given number\n",
        "#this is better solution\n",
        "num = 20\n",
        "result =[]\n",
        "for i in range(1,num//2):\n",
        "  if num%i == 0:\n",
        "    result.append(i)\n",
        "result.append(num)\n",
        "print(result)"
      ],
      "metadata": {
        "colab": {
          "base_uri": "https://localhost:8080/"
        },
        "id": "9qkmlwYUGF6q",
        "outputId": "e4a91d61-b8b6-4de2-c3a2-611b3960c939"
      },
      "execution_count": 10,
      "outputs": [
        {
          "output_type": "stream",
          "name": "stdout",
          "text": [
            "[1, 2, 4, 5, 20]\n"
          ]
        }
      ]
    },
    {
      "cell_type": "code",
      "source": [
        "#frequency map\n",
        "num = [5,6,7,7,1,9,111,1,1,5,1,1]\n",
        "freq_map = {}\n",
        "for i in range(0,len(num)):\n",
        "  if num[i] in freq_map:\n",
        "    freq_map[num[i]] += 1\n",
        "  else:\n",
        "    freq_map[num[i]]=1\n",
        "print(freq_map)"
      ],
      "metadata": {
        "colab": {
          "base_uri": "https://localhost:8080/"
        },
        "id": "n2oFZV28JP5Y",
        "outputId": "f2302e2c-4198-4538-a467-7c6349f24f8b"
      },
      "execution_count": 2,
      "outputs": [
        {
          "output_type": "stream",
          "name": "stdout",
          "text": [
            "[1, 1, 1, 1, 1, 5, 5, 6, 7, 7, 9, 111]\n",
            "{1: 5, 5: 2, 6: 1, 7: 2, 9: 1, 111: 1}\n"
          ]
        }
      ]
    },
    {
      "cell_type": "code",
      "source": [],
      "metadata": {
        "id": "MduVO8Ft9OA4"
      },
      "execution_count": null,
      "outputs": []
    }
  ]
}