{
  "nbformat": 4,
  "nbformat_minor": 0,
  "metadata": {
    "colab": {
      "provenance": [],
      "authorship_tag": "ABX9TyNjTT0PIb5zfZdgoDn52TsP",
      "include_colab_link": true
    },
    "kernelspec": {
      "name": "python3",
      "display_name": "Python 3"
    },
    "language_info": {
      "name": "python"
    }
  },
  "cells": [
    {
      "cell_type": "markdown",
      "metadata": {
        "id": "view-in-github",
        "colab_type": "text"
      },
      "source": [
        "<a href=\"https://colab.research.google.com/github/devendrapandey2005/DSA-with-python/blob/main/DSA.ipynb\" target=\"_parent\"><img src=\"https://colab.research.google.com/assets/colab-badge.svg\" alt=\"Open In Colab\"/></a>"
      ]
    },
    {
      "cell_type": "code",
      "execution_count": 1,
      "metadata": {
        "colab": {
          "base_uri": "https://localhost:8080/"
        },
        "id": "tgrSmT34CoV6",
        "outputId": "87fb9488-383b-4bf6-d3e5-3755bdc6e818"
      },
      "outputs": [
        {
          "output_type": "stream",
          "name": "stdout",
          "text": [
            "3\n",
            "7\n",
            "8\n",
            "5\n"
          ]
        }
      ],
      "source": [
        "#count digit\n",
        "n = 5873 # Changed n to an integer\n",
        "num = n\n",
        "while num > 0:\n",
        "  last_digit = num % 10\n",
        "  print(last_digit)\n",
        "  num = num // 10"
      ]
    },
    {
      "cell_type": "code",
      "source": [
        "#count digit\n",
        "n = 5873 # Changed n to an integer\n",
        "num = n\n",
        "count = 0\n",
        "while num > 0:\n",
        "  '''last_digit = num % 10\n",
        "  print(last_digit)'''\n",
        "  count +=1\n",
        "  num = num // 10\n",
        "print(count)"
      ],
      "metadata": {
        "colab": {
          "base_uri": "https://localhost:8080/"
        },
        "id": "8MIddasICsDU",
        "outputId": "2884d2d5-91ba-4ab7-f53a-c2838b4d6f79"
      },
      "execution_count": 2,
      "outputs": [
        {
          "output_type": "stream",
          "name": "stdout",
          "text": [
            "4\n"
          ]
        }
      ]
    },
    {
      "cell_type": "code",
      "source": [
        "# check palindrom\n",
        "n = 12345\n",
        "num = n\n",
        "result = 0\n",
        "while num>0:\n",
        "  ld = num%10\n",
        "  result = (result*10)+ld\n",
        "  num = num//10\n",
        "  if result == n:\n",
        "    print(\"palindrom\")\n",
        "  else :\n",
        "    print('not palidrom')"
      ],
      "metadata": {
        "colab": {
          "base_uri": "https://localhost:8080/"
        },
        "id": "A7SHrKScCsy2",
        "outputId": "682801d6-8883-4acb-8076-ac1320519031"
      },
      "execution_count": 3,
      "outputs": [
        {
          "output_type": "stream",
          "name": "stdout",
          "text": [
            "not palidrom\n",
            "not palidrom\n",
            "not palidrom\n",
            "not palidrom\n",
            "not palidrom\n"
          ]
        }
      ]
    },
    {
      "cell_type": "code",
      "source": [
        "#armstrong number\n",
        "n = 153\n",
        "num = n\n",
        "total = 0\n",
        "nod = len(str(n))\n",
        "while num >0:\n",
        "  ld = num%10\n",
        "  total = total + (ld ** nod)\n",
        "  num = num//10\n",
        "if total == n:\n",
        "  print(\"it is a armstrong number\")\n",
        "else:\n",
        "  print(\"not a armstrong number\")"
      ],
      "metadata": {
        "colab": {
          "base_uri": "https://localhost:8080/"
        },
        "id": "is6yGKNNCums",
        "outputId": "52f383e4-c30b-4fa7-d8b1-dda0bee0a1ac"
      },
      "execution_count": 4,
      "outputs": [
        {
          "output_type": "stream",
          "name": "stdout",
          "text": [
            "it is a armstrong number\n"
          ]
        }
      ]
    },
    {
      "cell_type": "code",
      "source": [
        "#print factors of given number\n",
        "#this is for brute force\n",
        "num = 20\n",
        "result =[]\n",
        "for i in range(1,num+1):\n",
        "  if num%i == 0:\n",
        "    result.append(i)\n",
        "print(result)"
      ],
      "metadata": {
        "colab": {
          "base_uri": "https://localhost:8080/"
        },
        "id": "CEqaklL8Cw7d",
        "outputId": "0c0c1530-1ab3-4a01-ddcc-aec140963861"
      },
      "execution_count": 5,
      "outputs": [
        {
          "output_type": "stream",
          "name": "stdout",
          "text": [
            "[1, 2, 4, 5, 10, 20]\n"
          ]
        }
      ]
    },
    {
      "cell_type": "code",
      "source": [
        "#print factors of given number\n",
        "#this is better solution\n",
        "num = 20\n",
        "result =[]\n",
        "for i in range(1,num//2):\n",
        "  if num%i == 0:\n",
        "    result.append(i)\n",
        "result.append(num)\n",
        "print(result)"
      ],
      "metadata": {
        "colab": {
          "base_uri": "https://localhost:8080/"
        },
        "id": "9qkmlwYUGF6q",
        "outputId": "9762fa06-aaf0-46de-c977-f775e4978b81"
      },
      "execution_count": 6,
      "outputs": [
        {
          "output_type": "stream",
          "name": "stdout",
          "text": [
            "[1, 2, 4, 5, 20]\n"
          ]
        }
      ]
    },
    {
      "cell_type": "code",
      "source": [
        "#frequency map\n",
        "# mathod 1\n",
        "num = [5,6,7,7,1,9,111,1,1,5,1,1]\n",
        "freq_map = {}\n",
        "for i in range(0,len(num)):\n",
        "  if num[i] in freq_map:\n",
        "    freq_map[num[i]] += 1\n",
        "  else:\n",
        "    freq_map[num[i]]=1\n",
        "print(freq_map)"
      ],
      "metadata": {
        "colab": {
          "base_uri": "https://localhost:8080/"
        },
        "id": "n2oFZV28JP5Y",
        "outputId": "501c299a-6764-4db5-afae-281ab32f799b"
      },
      "execution_count": 7,
      "outputs": [
        {
          "output_type": "stream",
          "name": "stdout",
          "text": [
            "{5: 2, 6: 1, 7: 2, 1: 5, 9: 1, 111: 1}\n"
          ]
        }
      ]
    },
    {
      "cell_type": "code",
      "source": [
        "#method 2\n",
        "hash_map = {}\n",
        "n = len(num)\n",
        "for i in range (0,n):\n",
        "  hash_map[num[i]] = hash_map.get(num[i],0)+1\n",
        "print(hash_map)"
      ],
      "metadata": {
        "id": "MduVO8Ft9OA4",
        "colab": {
          "base_uri": "https://localhost:8080/"
        },
        "outputId": "c93cf96d-a7bb-4cbc-d67f-97502dac0e09"
      },
      "execution_count": 8,
      "outputs": [
        {
          "output_type": "stream",
          "name": "stdout",
          "text": [
            "{5: 2, 6: 1, 7: 2, 1: 5, 9: 1, 111: 1}\n"
          ]
        }
      ]
    },
    {
      "cell_type": "code",
      "source": [
        "#hashing\n",
        "#brute mathod\n",
        "n = [5,3,2,2,1,5,5,7,5,10]\n",
        "m = [10,111,1,9,5,67,2]\n",
        "for num in m:\n",
        "  count = 0\n",
        "  for x in n:\n",
        "    if x == num:\n",
        "      count += 1\n",
        "  print(\" \",count)"
      ],
      "metadata": {
        "colab": {
          "base_uri": "https://localhost:8080/"
        },
        "id": "I852o3BCMCGe",
        "outputId": "f1a7e41e-6817-4d04-8895-fa8d389988ee"
      },
      "execution_count": 9,
      "outputs": [
        {
          "output_type": "stream",
          "name": "stdout",
          "text": [
            "  1\n",
            "  0\n",
            "  1\n",
            "  0\n",
            "  4\n",
            "  0\n",
            "  2\n"
          ]
        }
      ]
    },
    {
      "cell_type": "code",
      "source": [
        "n = [5,3,2,2,1,5,5,7,5,10]\n",
        "m = [10,111,1,9,5,67,2]\n",
        "hash_list = [0]*11\n",
        "for num in n:\n",
        "  hash_list[num]+=1\n",
        "for num in m:\n",
        "  if num < 1 or num > 10:\n",
        "    print(0)\n",
        "  else :\n",
        "    print(hash_list[num])"
      ],
      "metadata": {
        "colab": {
          "base_uri": "https://localhost:8080/"
        },
        "id": "50gQvzx4S-i1",
        "outputId": "cd09da1b-44a3-4231-97ee-192b6d8a98b5"
      },
      "execution_count": 10,
      "outputs": [
        {
          "output_type": "stream",
          "name": "stdout",
          "text": [
            "1\n",
            "0\n",
            "1\n",
            "0\n",
            "4\n",
            "0\n",
            "2\n"
          ]
        }
      ]
    },
    {
      "cell_type": "code",
      "source": [
        "#for optimal method\n",
        "n = [5,3,2,2,1,5,5,7,5,10]\n",
        "m = [10,111,1,9,5,67,2]\n",
        "hash_list = [0] * 11\n",
        "for num in n:\n",
        "    if 0 <= num <= 10:\n",
        "        hash_list[num] += 1\n",
        "for num in m:\n",
        "    if 0 <= num <= 10:\n",
        "        print(f\"The number {num} appears {hash_list[num]} times in list n.\")\n",
        "    else:\n",
        "        print(f\"The number {num} is outside the range [0, 10] and does not appear in the frequency count.\")"
      ],
      "metadata": {
        "colab": {
          "base_uri": "https://localhost:8080/"
        },
        "id": "o3fkeGBqPz6t",
        "outputId": "f4e81b51-6afd-412f-acfc-1302df03cd13"
      },
      "execution_count": 11,
      "outputs": [
        {
          "output_type": "stream",
          "name": "stdout",
          "text": [
            "The number 10 appears 1 times in list n.\n",
            "The number 111 is outside the range [0, 10] and does not appear in the frequency count.\n",
            "The number 1 appears 1 times in list n.\n",
            "The number 9 appears 0 times in list n.\n",
            "The number 5 appears 4 times in list n.\n",
            "The number 67 is outside the range [0, 10] and does not appear in the frequency count.\n",
            "The number 2 appears 2 times in list n.\n"
          ]
        }
      ]
    },
    {
      "cell_type": "code",
      "source": [
        "lst1 = [3, 3, 4, 5, 6, 7, 9, 6, 10]\n",
        "list2 = [10, 44, 55, 1, 2, 88, 9, 6, 20]\n",
        "#using dictionary method 3\n",
        "count_dict = {}\n",
        "for num in lst1:\n",
        "    if num in count_dict:\n",
        "        count_dict[num] += 1\n",
        "    else:\n",
        "        count_dict[num] = 1\n",
        "for num in list2:\n",
        "    count = count_dict.get(num, 0)\n",
        "    print(f\"{num} appears {count} time(s) in list1\")"
      ],
      "metadata": {
        "colab": {
          "base_uri": "https://localhost:8080/"
        },
        "id": "r9jv0fDHSdO-",
        "outputId": "8742f931-82b9-41b3-87bb-ef183482b0ec"
      },
      "execution_count": 12,
      "outputs": [
        {
          "output_type": "stream",
          "name": "stdout",
          "text": [
            "10 appears 1 time(s) in list1\n",
            "44 appears 0 time(s) in list1\n",
            "55 appears 0 time(s) in list1\n",
            "1 appears 0 time(s) in list1\n",
            "2 appears 0 time(s) in list1\n",
            "88 appears 0 time(s) in list1\n",
            "9 appears 1 time(s) in list1\n",
            "6 appears 2 time(s) in list1\n",
            "20 appears 0 time(s) in list1\n"
          ]
        }
      ]
    },
    {
      "cell_type": "code",
      "source": [
        "#character hashing\n",
        "s = \"azyxyyzaaaa\"\n",
        "q = [\"d\",\"a\",\"y\",\"x\"]\n",
        "hash_list = [0]*26\n",
        "for ch in s:\n",
        "  ascii_value = ord(ch)\n",
        "  index = ascii_value - 97\n",
        "  hash_list[index] +=1\n",
        "for ch in q:\n",
        "  ascii_value = ord(ch)\n",
        "  index = ascii_value - 97\n",
        "  print(hash_list[index])"
      ],
      "metadata": {
        "colab": {
          "base_uri": "https://localhost:8080/"
        },
        "id": "6bHKi9EXVow2",
        "outputId": "e03cadc2-9feb-4c8a-8927-2a35df550205"
      },
      "execution_count": 13,
      "outputs": [
        {
          "output_type": "stream",
          "name": "stdout",
          "text": [
            "0\n",
            "5\n",
            "3\n",
            "1\n"
          ]
        }
      ]
    },
    {
      "cell_type": "code",
      "source": [
        "# head recursion\n",
        "# print robin 5 times\n",
        "count = 0\n",
        "def func(count):\n",
        "  if count == 5:\n",
        "    return\n",
        "  print(\"robin\")\n",
        "  count +=1\n",
        "  func(count)\n",
        "func(count)"
      ],
      "metadata": {
        "id": "rbaTyrH2dOcu",
        "colab": {
          "base_uri": "https://localhost:8080/"
        },
        "outputId": "0c7af448-7d04-4e80-a7c3-96d0bb2bf976"
      },
      "execution_count": 14,
      "outputs": [
        {
          "output_type": "stream",
          "name": "stdout",
          "text": [
            "robin\n",
            "robin\n",
            "robin\n",
            "robin\n",
            "robin\n"
          ]
        }
      ]
    },
    {
      "cell_type": "code",
      "source": [
        "#tail recursion\n",
        "count = 0\n",
        "def func(count):\n",
        "  if count == 4:\n",
        "    return\n",
        "  count +=1\n",
        "  func(count)\n",
        "  print(\"robinnnn\")\n",
        "func(count)"
      ],
      "metadata": {
        "colab": {
          "base_uri": "https://localhost:8080/"
        },
        "id": "qQ5Gn5P1rYiI",
        "outputId": "344f3b53-3293-40a4-b425-464dd7b433bf"
      },
      "execution_count": 15,
      "outputs": [
        {
          "output_type": "stream",
          "name": "stdout",
          "text": [
            "robinnnn\n",
            "robinnnn\n",
            "robinnnn\n",
            "robinnnn\n"
          ]
        }
      ]
    },
    {
      "cell_type": "code",
      "source": [
        "#recursion using parameter\n",
        "#print x n times\n",
        "def func(x, n):\n",
        "  if n == 0:\n",
        "    return\n",
        "  print(x)\n",
        "  func(x,n-1)\n",
        "func(15,5)"
      ],
      "metadata": {
        "id": "dgc_KEcotNVE",
        "colab": {
          "base_uri": "https://localhost:8080/"
        },
        "outputId": "0f38247e-ade3-4d6a-b1b1-83d5a5067025"
      },
      "execution_count": 16,
      "outputs": [
        {
          "output_type": "stream",
          "name": "stdout",
          "text": [
            "15\n",
            "15\n",
            "15\n",
            "15\n",
            "15\n"
          ]
        }
      ]
    },
    {
      "cell_type": "code",
      "source": [
        "# print 1 to n using recursion\n",
        "def func(i, n):\n",
        "    if i > n:\n",
        "        return\n",
        "    print(i)\n",
        "    func(i + 1, n)\n",
        "\n",
        "func(1, 4)"
      ],
      "metadata": {
        "colab": {
          "base_uri": "https://localhost:8080/"
        },
        "id": "SyOVgy_K53BU",
        "outputId": "430c2f10-e65f-48ed-e392-1a31b9a25f14"
      },
      "execution_count": 17,
      "outputs": [
        {
          "output_type": "stream",
          "name": "stdout",
          "text": [
            "1\n",
            "2\n",
            "3\n",
            "4\n"
          ]
        }
      ]
    },
    {
      "cell_type": "code",
      "source": [
        "#using backtracking print n to 1\n",
        "def func(i,n):\n",
        "  if i < 1:\n",
        "    return\n",
        "  func(i-1,n)\n",
        "  print(i)\n",
        "func(4,4)"
      ],
      "metadata": {
        "colab": {
          "base_uri": "https://localhost:8080/"
        },
        "id": "eObW6Q7nBxP6",
        "outputId": "0f63bb62-0a8f-4633-b31d-c3803ba58d3d"
      },
      "execution_count": 18,
      "outputs": [
        {
          "output_type": "stream",
          "name": "stdout",
          "text": [
            "1\n",
            "2\n",
            "3\n",
            "4\n"
          ]
        }
      ]
    },
    {
      "cell_type": "code",
      "source": [
        "#parameterized and functional recursion\n",
        "#print sum of 1 to n\n",
        "def func(sum,i,n):\n",
        "  if i > n :\n",
        "    print(\"sum is =\",sum)\n",
        "    return\n",
        "  func(sum + i, i+1, n)\n",
        "func(0,1,4)"
      ],
      "metadata": {
        "id": "iEceFn8RC3tf",
        "colab": {
          "base_uri": "https://localhost:8080/"
        },
        "outputId": "31c29f69-233b-445a-ebb0-369ccf73b175"
      },
      "execution_count": 19,
      "outputs": [
        {
          "output_type": "stream",
          "name": "stdout",
          "text": [
            "sum is = 10\n"
          ]
        }
      ]
    },
    {
      "cell_type": "code",
      "source": [
        "#functional\n",
        "def func(n):\n",
        "  if n == 0:\n",
        "    return 0\n",
        "  return n + func(n-1)\n",
        "print(func(4))"
      ],
      "metadata": {
        "colab": {
          "base_uri": "https://localhost:8080/"
        },
        "id": "6zWLVCE6cyKs",
        "outputId": "b90fd6b3-eee3-4aa4-96e9-6a80a65f7d04"
      },
      "execution_count": 20,
      "outputs": [
        {
          "output_type": "stream",
          "name": "stdout",
          "text": [
            "10\n"
          ]
        }
      ]
    },
    {
      "cell_type": "code",
      "source": [
        "#find factorial of number by using recursion\n",
        "def fact(num):\n",
        "  if num == 0 or num == 1:\n",
        "    return 1\n",
        "  return num * fact(num-1)\n",
        "x = fact(5)\n",
        "print(\"factorial or number = \",x)"
      ],
      "metadata": {
        "id": "DW9HNvtPfdkQ",
        "colab": {
          "base_uri": "https://localhost:8080/"
        },
        "outputId": "b154133b-0882-4e12-ed6c-f1c76caf5e7f"
      },
      "execution_count": 21,
      "outputs": [
        {
          "output_type": "stream",
          "name": "stdout",
          "text": [
            "factorial or number =  120\n"
          ]
        }
      ]
    },
    {
      "cell_type": "code",
      "source": [
        "#reverse an array using recursion\n",
        "\n",
        "def func(arr,left,right):\n",
        "  if left>=right:\n",
        "    return\n",
        "  arr[left],arr[right]=arr[right],arr[left]\n",
        "  func(arr,left+1,right-1)\n",
        "def reverse_arr(arr,left,right):\n",
        "  func(arr,left,right)\n",
        "  return arr\n",
        "arr = [5,7,3,2,6,1,5,9]\n",
        "reversed_arr = reverse_arr(arr, 0, len(arr) - 1)\n",
        "print(reversed_arr)"
      ],
      "metadata": {
        "id": "qMKv8k1WfzjR",
        "colab": {
          "base_uri": "https://localhost:8080/"
        },
        "outputId": "785bed5e-e897-485b-f2c8-49881d5ab90e"
      },
      "execution_count": 22,
      "outputs": [
        {
          "output_type": "stream",
          "name": "stdout",
          "text": [
            "[9, 5, 1, 6, 2, 3, 7, 5]\n"
          ]
        }
      ]
    },
    {
      "cell_type": "code",
      "source": [
        "s = 'NITIN'\n",
        "n = len(s)\n",
        "left = 0\n",
        "right = n - 1\n",
        "is_palindrome = True\n",
        "while left < right:\n",
        "    if s[left] != s[right]:\n",
        "        is_palindrome = False\n",
        "        break\n",
        "    left += 1\n",
        "    right -= 1\n",
        "print(is_palindrome)"
      ],
      "metadata": {
        "id": "LZwwMRMRiqDx",
        "colab": {
          "base_uri": "https://localhost:8080/"
        },
        "outputId": "2e8756cb-0888-4a77-87fa-bee0c836afcb"
      },
      "execution_count": 23,
      "outputs": [
        {
          "output_type": "stream",
          "name": "stdout",
          "text": [
            "True\n"
          ]
        }
      ]
    },
    {
      "cell_type": "code",
      "source": [
        "#using recursion\n",
        "def func(s,left,right):\n",
        "  if left>=right:\n",
        "    return True\n",
        "  if s[left] != s[right]:\n",
        "    return False\n",
        "  return func(s,left+1,right-1)\n",
        "s = \"nitin\"\n",
        "if func(s, 0, len(s)-1):\n",
        "  print(\"han hai bhai yeh palindrom = \",s)\n",
        "else:\n",
        "  print(\" chutiya hai kya , padha likha nahi hai tu = \",s)"
      ],
      "metadata": {
        "colab": {
          "base_uri": "https://localhost:8080/"
        },
        "id": "ReVPFY8MoOWJ",
        "outputId": "cb6413bd-79d2-4e6d-e213-d07eedac096c"
      },
      "execution_count": 24,
      "outputs": [
        {
          "output_type": "stream",
          "name": "stdout",
          "text": [
            "han hai bhai yeh palindrom =  nitin\n"
          ]
        }
      ]
    },
    {
      "cell_type": "code",
      "source": [
        "class Solution:\n",
        "    def fib(self, num):\n",
        "        def recur(n):\n",
        "            if n == 0 or n == 1:\n",
        "                return n\n",
        "            return recur(n - 1) + recur(n - 2)\n",
        "        ans = []\n",
        "        for i in range(num + 1):\n",
        "            ans.append(recur(i))\n",
        "        return ans\n",
        "sol = Solution()\n",
        "n = 6\n",
        "print(sol.fib(n))"
      ],
      "metadata": {
        "id": "E43i1-o_rDqa",
        "colab": {
          "base_uri": "https://localhost:8080/"
        },
        "outputId": "5f6961ee-9ffa-45d5-cb0f-e7bd34d43cf8"
      },
      "execution_count": 25,
      "outputs": [
        {
          "output_type": "stream",
          "name": "stdout",
          "text": [
            "[0, 1, 1, 2, 3, 5, 8]\n"
          ]
        }
      ]
    },
    {
      "cell_type": "code",
      "source": [
        "#selection sort in asscending order\n",
        "def selection_sort(nums):\n",
        "  n = len(nums)\n",
        "  for i in range(0,n):\n",
        "    mini_index = i\n",
        "    for j in range(i+1,n):\n",
        "      if nums[j]<nums[mini_index]:\n",
        "        mini_index = j\n",
        "    nums[i],nums[mini_index] = nums[mini_index],nums[i]\n",
        "  return nums\n",
        "nums = [5,7,8,3,4,1,6,9,2]\n",
        "sorted_nums = selection_sort(nums)\n",
        "print(\"sorted nums = \",sorted_nums)"
      ],
      "metadata": {
        "id": "pKoPqiJEY47W",
        "colab": {
          "base_uri": "https://localhost:8080/"
        },
        "outputId": "b7890273-4784-4532-ee33-3e200e9f3d60"
      },
      "execution_count": 26,
      "outputs": [
        {
          "output_type": "stream",
          "name": "stdout",
          "text": [
            "sorted nums =  [1, 2, 3, 4, 5, 6, 7, 8, 9]\n"
          ]
        }
      ]
    },
    {
      "cell_type": "code",
      "source": [
        "#selection sort in descending order\n",
        "def selection_sort_desc(nums):\n",
        "  n = len(nums)\n",
        "  for i in range(0,n):\n",
        "    max_index = i\n",
        "    for j in range(i+1,n):\n",
        "      if nums[j]>nums[max_index]:\n",
        "        max_index = j\n",
        "    nums[i],nums[max_index] = nums[max_index],nums[i]\n",
        "  return nums\n",
        "nums = [5,7,8,3,4,1,6,9,2]\n",
        "sorted_nums = selection_sort_desc(nums)\n",
        "print(\"sorted nums = \",sorted_nums)"
      ],
      "metadata": {
        "colab": {
          "base_uri": "https://localhost:8080/"
        },
        "id": "LRDhijceduw4",
        "outputId": "66ef5166-715e-4bda-8e09-b84a4ec6d6db"
      },
      "execution_count": 33,
      "outputs": [
        {
          "output_type": "stream",
          "name": "stdout",
          "text": [
            "sorted nums =  [9, 8, 7, 6, 5, 4, 3, 2, 1]\n"
          ]
        }
      ]
    },
    {
      "cell_type": "code",
      "source": [
        "def func(i,n):\n",
        "  if i>n:\n",
        "    return\n",
        "  print(i)\n",
        "  func(i+1,n)\n",
        "func(0,5)"
      ],
      "metadata": {
        "id": "wmeV5Oydy_Rq",
        "colab": {
          "base_uri": "https://localhost:8080/"
        },
        "outputId": "5fcfbea7-9df9-48e8-a160-5e2fe9ed9748"
      },
      "execution_count": 27,
      "outputs": [
        {
          "output_type": "stream",
          "name": "stdout",
          "text": [
            "0\n",
            "1\n",
            "2\n",
            "3\n",
            "4\n",
            "5\n"
          ]
        }
      ]
    },
    {
      "cell_type": "code",
      "source": [
        "def pre_increment(n):\n",
        "  if n<5:\n",
        "    n+=1\n",
        "    print(n)\n",
        "    pre_increment(n)\n",
        "pre_increment(0)"
      ],
      "metadata": {
        "colab": {
          "base_uri": "https://localhost:8080/"
        },
        "id": "G8-5TkVPaV7u",
        "outputId": "2ac54001-2f0a-431c-8664-7240ac5b315e"
      },
      "execution_count": 28,
      "outputs": [
        {
          "output_type": "stream",
          "name": "stdout",
          "text": [
            "1\n",
            "2\n",
            "3\n",
            "4\n",
            "5\n"
          ]
        }
      ]
    },
    {
      "cell_type": "code",
      "source": [
        "def post_increment(n):\n",
        "    if n < 5:\n",
        "        print(n)              # Use before increment\n",
        "        n += 1                # Post increment\n",
        "        post_increment(n)\n",
        "post_increment(0)"
      ],
      "metadata": {
        "colab": {
          "base_uri": "https://localhost:8080/"
        },
        "id": "tYeXSla9c5py",
        "outputId": "bd1c4275-4bd1-4c08-deb6-3d390394257a"
      },
      "execution_count": 29,
      "outputs": [
        {
          "output_type": "stream",
          "name": "stdout",
          "text": [
            "0\n",
            "1\n",
            "2\n",
            "3\n",
            "4\n"
          ]
        }
      ]
    },
    {
      "cell_type": "code",
      "source": [
        "#check karo ki yeh array sorted hai ya nahi\n",
        "def isSorted(arr, n):\n",
        "    if n == 0 or n == 1:\n",
        "        return True\n",
        "    if arr[0] > arr[1]:\n",
        "        return False\n",
        "    return isSorted(arr[1:], n - 1)\n",
        "arr = [1, 2, 3, 4, 5]\n",
        "n = len(arr)\n",
        "print(\"Sorted hai?\" , isSorted(arr, n))"
      ],
      "metadata": {
        "id": "O4vx_puHdQyh",
        "colab": {
          "base_uri": "https://localhost:8080/"
        },
        "outputId": "bf33012a-c97b-401e-99f4-58a5796a1400"
      },
      "execution_count": 30,
      "outputs": [
        {
          "output_type": "stream",
          "name": "stdout",
          "text": [
            "Sorted hai? True\n"
          ]
        }
      ]
    },
    {
      "cell_type": "code",
      "source": [
        "#binary search using recursion\n",
        "def binarySearch(arr, left, right, target):\n",
        "    # Base case: agar range khatam ho gayi\n",
        "    if left > right:\n",
        "        return -1\n",
        "\n",
        "    mid = (left + right) // 2\n",
        "\n",
        "    # Element mil gaya\n",
        "    if arr[mid] == target:\n",
        "        return mid\n",
        "    # Agar target chhota hai mid se → left side search karo\n",
        "    elif target < arr[mid]:\n",
        "        return binarySearch(arr, left, mid - 1, target)\n",
        "    # Agar target bada hai mid se → right side search karo\n",
        "    else:\n",
        "        return binarySearch(arr, mid + 1, right, target)\n",
        "\n",
        "# Example usage\n",
        "arr = [2, 4, 6, 10, 15, 20]\n",
        "target = 50\n",
        "result = binarySearch(arr, 0, len(arr) - 1, target)\n",
        "if result != -1:\n",
        "  print('element found at index = ',result)\n",
        "else :\n",
        "  print(\"not found\")"
      ],
      "metadata": {
        "colab": {
          "base_uri": "https://localhost:8080/"
        },
        "id": "0z3t9Nomc48G",
        "outputId": "553d557b-2ca6-4fd9-ab2c-f11a4e949d3a"
      },
      "execution_count": 31,
      "outputs": [
        {
          "output_type": "stream",
          "name": "stdout",
          "text": [
            "not found\n"
          ]
        }
      ]
    },
    {
      "cell_type": "code",
      "source": [
        "s = 'NITIN'\n",
        "n = len(s)\n",
        "left = 0\n",
        "right = n-1\n",
        "is_palindrome = True\n",
        "while left<right:\n",
        "  if s[left] != s[right]:\n",
        "    is_palindrome = False\n",
        "    break\n",
        "  left+=1\n",
        "  right-=1\n",
        "print(is_palindrome)"
      ],
      "metadata": {
        "colab": {
          "base_uri": "https://localhost:8080/"
        },
        "id": "QUTbRd2MgzUl",
        "outputId": "e9575a8c-a625-4e92-d189-045eed5c20e8"
      },
      "execution_count": 32,
      "outputs": [
        {
          "output_type": "stream",
          "name": "stdout",
          "text": [
            "True\n"
          ]
        }
      ]
    },
    {
      "cell_type": "code",
      "source": [],
      "metadata": {
        "id": "OUUbKwNElhj0"
      },
      "execution_count": 32,
      "outputs": []
    }
  ]
}