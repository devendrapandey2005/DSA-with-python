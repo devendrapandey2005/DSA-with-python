{
  "nbformat": 4,
  "nbformat_minor": 0,
  "metadata": {
    "colab": {
      "provenance": [],
      "authorship_tag": "ABX9TyMuQiADDR5+27PWcGhIh26/",
      "include_colab_link": true
    },
    "kernelspec": {
      "name": "python3",
      "display_name": "Python 3"
    },
    "language_info": {
      "name": "python"
    }
  },
  "cells": [
    {
      "cell_type": "markdown",
      "metadata": {
        "id": "view-in-github",
        "colab_type": "text"
      },
      "source": [
        "<a href=\"https://colab.research.google.com/github/devendrapandey2005/DSA-with-python/blob/main/DSA.ipynb\" target=\"_parent\"><img src=\"https://colab.research.google.com/assets/colab-badge.svg\" alt=\"Open In Colab\"/></a>"
      ]
    },
    {
      "cell_type": "code",
      "execution_count": 1,
      "metadata": {
        "colab": {
          "base_uri": "https://localhost:8080/"
        },
        "id": "tgrSmT34CoV6",
        "outputId": "bb14766b-3535-43ab-e36f-d6b54ec0fc7f"
      },
      "outputs": [
        {
          "output_type": "stream",
          "name": "stdout",
          "text": [
            "3\n",
            "7\n",
            "8\n",
            "5\n"
          ]
        }
      ],
      "source": [
        "#count digit\n",
        "n = 5873 # Changed n to an integer\n",
        "num = n\n",
        "while num > 0:\n",
        "  last_digit = num % 10\n",
        "  print(last_digit)\n",
        "  num = num // 10"
      ]
    },
    {
      "cell_type": "code",
      "source": [
        "#count digit\n",
        "n = 5873 # Changed n to an integer\n",
        "num = n\n",
        "count = 0\n",
        "while num > 0:\n",
        "  '''last_digit = num % 10\n",
        "  print(last_digit)'''\n",
        "  count +=1\n",
        "  num = num // 10\n",
        "print(count)"
      ],
      "metadata": {
        "colab": {
          "base_uri": "https://localhost:8080/"
        },
        "id": "8MIddasICsDU",
        "outputId": "0267838f-ef20-4d3b-ea59-430b2ceecbe4"
      },
      "execution_count": 2,
      "outputs": [
        {
          "output_type": "stream",
          "name": "stdout",
          "text": [
            "4\n"
          ]
        }
      ]
    },
    {
      "cell_type": "code",
      "source": [
        "# check palindrom\n",
        "n = 12345\n",
        "num = n\n",
        "result = 0\n",
        "while num>0:\n",
        "  ld = num%10\n",
        "  result = (result*10)+ld\n",
        "  num = num//10\n",
        "  if result == n:\n",
        "    print(\"palindrom\")\n",
        "  else :\n",
        "    print('not palidrom')"
      ],
      "metadata": {
        "colab": {
          "base_uri": "https://localhost:8080/"
        },
        "id": "A7SHrKScCsy2",
        "outputId": "5023247b-d5b7-4244-a5ef-04770015a192"
      },
      "execution_count": 3,
      "outputs": [
        {
          "output_type": "stream",
          "name": "stdout",
          "text": [
            "not palidrom\n",
            "not palidrom\n",
            "not palidrom\n",
            "not palidrom\n",
            "not palidrom\n"
          ]
        }
      ]
    },
    {
      "cell_type": "code",
      "source": [
        "#armstrong number\n",
        "n = 153\n",
        "num = n\n",
        "total = 0\n",
        "nod = len(str(n))\n",
        "while num >0:\n",
        "  ld = num%10\n",
        "  total = total + (ld ** nod)\n",
        "  num = num//10\n",
        "if total == n:\n",
        "  print(\"it is a armstrong number\")\n",
        "else:\n",
        "  print(\"not a armstrong number\")"
      ],
      "metadata": {
        "colab": {
          "base_uri": "https://localhost:8080/"
        },
        "id": "is6yGKNNCums",
        "outputId": "33f9ff15-8828-4560-e710-b762e557917d"
      },
      "execution_count": 4,
      "outputs": [
        {
          "output_type": "stream",
          "name": "stdout",
          "text": [
            "it is a armstrong number\n"
          ]
        }
      ]
    },
    {
      "cell_type": "code",
      "source": [
        "#print factors of given number\n",
        "#this is for brute force\n",
        "num = 20\n",
        "result =[]\n",
        "for i in range(1,num+1):\n",
        "  if num%i == 0:\n",
        "    result.append(i)\n",
        "print(result)"
      ],
      "metadata": {
        "colab": {
          "base_uri": "https://localhost:8080/"
        },
        "id": "CEqaklL8Cw7d",
        "outputId": "b143418b-991c-4c37-fbfe-04d2385c406a"
      },
      "execution_count": 5,
      "outputs": [
        {
          "output_type": "stream",
          "name": "stdout",
          "text": [
            "[1, 2, 4, 5, 10, 20]\n"
          ]
        }
      ]
    },
    {
      "cell_type": "code",
      "source": [
        "#print factors of given number\n",
        "#this is better solution\n",
        "num = 20\n",
        "result =[]\n",
        "for i in range(1,num//2):\n",
        "  if num%i == 0:\n",
        "    result.append(i)\n",
        "result.append(num)\n",
        "print(result)"
      ],
      "metadata": {
        "colab": {
          "base_uri": "https://localhost:8080/"
        },
        "id": "9qkmlwYUGF6q",
        "outputId": "579f938d-e8e9-49f0-8348-03b4f94cdf4a"
      },
      "execution_count": 6,
      "outputs": [
        {
          "output_type": "stream",
          "name": "stdout",
          "text": [
            "[1, 2, 4, 5, 20]\n"
          ]
        }
      ]
    },
    {
      "cell_type": "code",
      "source": [
        "#frequency map\n",
        "# mathod 1\n",
        "num = [5,6,7,7,1,9,111,1,1,5,1,1]\n",
        "freq_map = {}\n",
        "for i in range(0,len(num)):\n",
        "  if num[i] in freq_map:\n",
        "    freq_map[num[i]] += 1\n",
        "  else:\n",
        "    freq_map[num[i]]=1\n",
        "print(freq_map)"
      ],
      "metadata": {
        "colab": {
          "base_uri": "https://localhost:8080/"
        },
        "id": "n2oFZV28JP5Y",
        "outputId": "3b1071ca-a64b-4eac-967d-d6d892c39a9d"
      },
      "execution_count": 7,
      "outputs": [
        {
          "output_type": "stream",
          "name": "stdout",
          "text": [
            "{5: 2, 6: 1, 7: 2, 1: 5, 9: 1, 111: 1}\n"
          ]
        }
      ]
    },
    {
      "cell_type": "code",
      "source": [
        "#method 2\n",
        "hash_map = {}\n",
        "n = len(num)\n",
        "for i in range (0,n):\n",
        "  hash_map[num[i]] = hash_map.get(num[i],0)+1\n",
        "print(hash_map)"
      ],
      "metadata": {
        "id": "MduVO8Ft9OA4",
        "colab": {
          "base_uri": "https://localhost:8080/"
        },
        "outputId": "d0949b50-1a3d-4d0b-e9eb-8c765cca6f8e"
      },
      "execution_count": 8,
      "outputs": [
        {
          "output_type": "stream",
          "name": "stdout",
          "text": [
            "{5: 2, 6: 1, 7: 2, 1: 5, 9: 1, 111: 1}\n"
          ]
        }
      ]
    },
    {
      "cell_type": "code",
      "source": [
        "#hashing\n",
        "#brute mathod\n",
        "n = [5,3,2,2,1,5,5,7,5,10]\n",
        "m = [10,111,1,9,5,67,2]\n",
        "for num in m:\n",
        "  count = 0\n",
        "  for x in n:\n",
        "    if x == num:\n",
        "      count += 1\n",
        "  print(\" \",count)"
      ],
      "metadata": {
        "colab": {
          "base_uri": "https://localhost:8080/"
        },
        "id": "I852o3BCMCGe",
        "outputId": "34ffa0c8-48dd-4c11-d21b-380945df56eb"
      },
      "execution_count": 9,
      "outputs": [
        {
          "output_type": "stream",
          "name": "stdout",
          "text": [
            "  1\n",
            "  0\n",
            "  1\n",
            "  0\n",
            "  4\n",
            "  0\n",
            "  2\n"
          ]
        }
      ]
    },
    {
      "cell_type": "code",
      "source": [
        "n = [5,3,2,2,1,5,5,7,5,10]\n",
        "m = [10,111,1,9,5,67,2]\n",
        "hash_list = [0]*11\n",
        "for num in n:\n",
        "  hash_list[num]+=1\n",
        "for num in m:\n",
        "  if num < 1 or num > 10:\n",
        "    print(0)\n",
        "  else :\n",
        "    print(hash_list[num])"
      ],
      "metadata": {
        "colab": {
          "base_uri": "https://localhost:8080/"
        },
        "id": "50gQvzx4S-i1",
        "outputId": "7a38627a-29e5-4fe5-e142-417a796871a9"
      },
      "execution_count": 10,
      "outputs": [
        {
          "output_type": "stream",
          "name": "stdout",
          "text": [
            "1\n",
            "0\n",
            "1\n",
            "0\n",
            "4\n",
            "0\n",
            "2\n"
          ]
        }
      ]
    },
    {
      "cell_type": "code",
      "source": [
        "#for optimal method\n",
        "n = [5,3,2,2,1,5,5,7,5,10]\n",
        "m = [10,111,1,9,5,67,2]\n",
        "hash_list = [0] * 11\n",
        "for num in n:\n",
        "    if 0 <= num <= 10:\n",
        "        hash_list[num] += 1\n",
        "for num in m:\n",
        "    if 0 <= num <= 10:\n",
        "        print(f\"The number {num} appears {hash_list[num]} times in list n.\")\n",
        "    else:\n",
        "        print(f\"The number {num} is outside the range [0, 10] and does not appear in the frequency count.\")"
      ],
      "metadata": {
        "colab": {
          "base_uri": "https://localhost:8080/"
        },
        "id": "o3fkeGBqPz6t",
        "outputId": "0afb1909-8471-4d75-8669-b5dd7b31f821"
      },
      "execution_count": 11,
      "outputs": [
        {
          "output_type": "stream",
          "name": "stdout",
          "text": [
            "The number 10 appears 1 times in list n.\n",
            "The number 111 is outside the range [0, 10] and does not appear in the frequency count.\n",
            "The number 1 appears 1 times in list n.\n",
            "The number 9 appears 0 times in list n.\n",
            "The number 5 appears 4 times in list n.\n",
            "The number 67 is outside the range [0, 10] and does not appear in the frequency count.\n",
            "The number 2 appears 2 times in list n.\n"
          ]
        }
      ]
    },
    {
      "cell_type": "code",
      "source": [
        "lst1 = [3, 3, 4, 5, 6, 7, 9, 6, 10]\n",
        "list2 = [10, 44, 55, 1, 2, 88, 9, 6, 20]\n",
        "#using dictionary method 3\n",
        "count_dict = {}\n",
        "for num in lst1:\n",
        "    if num in count_dict:\n",
        "        count_dict[num] += 1\n",
        "    else:\n",
        "        count_dict[num] = 1\n",
        "for num in list2:\n",
        "    count = count_dict.get(num, 0)\n",
        "    print(f\"{num} appears {count} time(s) in list1\")"
      ],
      "metadata": {
        "colab": {
          "base_uri": "https://localhost:8080/"
        },
        "id": "r9jv0fDHSdO-",
        "outputId": "adb2d922-8dde-41f9-deba-7dfa7bdfe435"
      },
      "execution_count": 12,
      "outputs": [
        {
          "output_type": "stream",
          "name": "stdout",
          "text": [
            "10 appears 1 time(s) in list1\n",
            "44 appears 0 time(s) in list1\n",
            "55 appears 0 time(s) in list1\n",
            "1 appears 0 time(s) in list1\n",
            "2 appears 0 time(s) in list1\n",
            "88 appears 0 time(s) in list1\n",
            "9 appears 1 time(s) in list1\n",
            "6 appears 2 time(s) in list1\n",
            "20 appears 0 time(s) in list1\n"
          ]
        }
      ]
    },
    {
      "cell_type": "code",
      "source": [
        "#character hashing\n",
        "s = \"azyxyyzaaaa\"\n",
        "q = [\"d\",\"a\",\"y\",\"x\"]\n",
        "hash_list = [0]*26\n",
        "for ch in s:\n",
        "  ascii_value = ord(ch)\n",
        "  index = ascii_value - 97\n",
        "  hash_list[index] +=1\n",
        "for ch in q:\n",
        "  ascii_value = ord(ch)\n",
        "  index = ascii_value - 97\n",
        "  print(hash_list[index])"
      ],
      "metadata": {
        "colab": {
          "base_uri": "https://localhost:8080/"
        },
        "id": "6bHKi9EXVow2",
        "outputId": "d86465b1-c730-428c-9605-6030beb4b2e0"
      },
      "execution_count": 13,
      "outputs": [
        {
          "output_type": "stream",
          "name": "stdout",
          "text": [
            "0\n",
            "5\n",
            "3\n",
            "1\n"
          ]
        }
      ]
    },
    {
      "cell_type": "code",
      "source": [
        "# head recursion\n",
        "# print robin 5 times\n",
        "count = 0\n",
        "def func(count):\n",
        "  if count == 5:\n",
        "    return\n",
        "  print(\"robin\")\n",
        "  count +=1\n",
        "  func(count)\n",
        "func(count)"
      ],
      "metadata": {
        "id": "rbaTyrH2dOcu",
        "colab": {
          "base_uri": "https://localhost:8080/"
        },
        "outputId": "8d5f130a-c33a-4955-ed62-99b1151eb976"
      },
      "execution_count": 14,
      "outputs": [
        {
          "output_type": "stream",
          "name": "stdout",
          "text": [
            "robin\n",
            "robin\n",
            "robin\n",
            "robin\n",
            "robin\n"
          ]
        }
      ]
    },
    {
      "cell_type": "code",
      "source": [
        "#tail recursion\n",
        "count = 0\n",
        "def func(count):\n",
        "  if count == 4:\n",
        "    return\n",
        "  count +=1\n",
        "  func(count)\n",
        "  print(\"robinnnn\")\n",
        "func(count)"
      ],
      "metadata": {
        "colab": {
          "base_uri": "https://localhost:8080/"
        },
        "id": "qQ5Gn5P1rYiI",
        "outputId": "773df6cb-bd2b-49d2-e64b-fe91569c72de"
      },
      "execution_count": 15,
      "outputs": [
        {
          "output_type": "stream",
          "name": "stdout",
          "text": [
            "robinnnn\n",
            "robinnnn\n",
            "robinnnn\n",
            "robinnnn\n"
          ]
        }
      ]
    },
    {
      "cell_type": "code",
      "source": [
        "#recursion using parameter\n",
        "#print x n times\n",
        "def func(x, n):\n",
        "  if n == 0:\n",
        "    return\n",
        "  print(x)\n",
        "  func(x,n-1)\n",
        "func(15,5)"
      ],
      "metadata": {
        "id": "dgc_KEcotNVE",
        "colab": {
          "base_uri": "https://localhost:8080/"
        },
        "outputId": "7dd5ff0c-940f-47fd-db23-44aa2addf386"
      },
      "execution_count": 16,
      "outputs": [
        {
          "output_type": "stream",
          "name": "stdout",
          "text": [
            "15\n",
            "15\n",
            "15\n",
            "15\n",
            "15\n"
          ]
        }
      ]
    },
    {
      "cell_type": "code",
      "source": [
        "# print 1 to n using recursion\n",
        "def func(i, n):\n",
        "    if i > n:\n",
        "        return\n",
        "    print(i)\n",
        "    func(i + 1, n)\n",
        "\n",
        "func(1, 4)"
      ],
      "metadata": {
        "colab": {
          "base_uri": "https://localhost:8080/"
        },
        "id": "SyOVgy_K53BU",
        "outputId": "8ad41cf4-6673-4beb-ae12-1867172a8f2e"
      },
      "execution_count": 17,
      "outputs": [
        {
          "output_type": "stream",
          "name": "stdout",
          "text": [
            "1\n",
            "2\n",
            "3\n",
            "4\n"
          ]
        }
      ]
    },
    {
      "cell_type": "code",
      "source": [
        "#using backtracking print n to 1\n",
        "def func(i,n):\n",
        "  if i < 1:\n",
        "    return\n",
        "  func(i-1,n)\n",
        "  print(i)\n",
        "func(4,4)"
      ],
      "metadata": {
        "colab": {
          "base_uri": "https://localhost:8080/"
        },
        "id": "eObW6Q7nBxP6",
        "outputId": "be8fff5a-70eb-4dc9-82e7-0c4811b62732"
      },
      "execution_count": 18,
      "outputs": [
        {
          "output_type": "stream",
          "name": "stdout",
          "text": [
            "1\n",
            "2\n",
            "3\n",
            "4\n"
          ]
        }
      ]
    },
    {
      "cell_type": "code",
      "source": [
        "#parameterized and functional recursion\n",
        "#print sum of 1 to n\n",
        "def func(sum,i,n):\n",
        "  if i > n :\n",
        "    print(\"sum is =\",sum)\n",
        "    return\n",
        "  func(sum + i, i+1, n)\n",
        "func(0,1,4)"
      ],
      "metadata": {
        "id": "iEceFn8RC3tf",
        "colab": {
          "base_uri": "https://localhost:8080/"
        },
        "outputId": "491d29d8-9ba7-4f56-b3da-1a0fb850d7fe"
      },
      "execution_count": 19,
      "outputs": [
        {
          "output_type": "stream",
          "name": "stdout",
          "text": [
            "sum is = 10\n"
          ]
        }
      ]
    },
    {
      "cell_type": "code",
      "source": [
        "#functional\n",
        "def func(n):\n",
        "  if n == 0:\n",
        "    return 0\n",
        "  return n + func(n-1)\n",
        "print(func(4))"
      ],
      "metadata": {
        "colab": {
          "base_uri": "https://localhost:8080/"
        },
        "id": "6zWLVCE6cyKs",
        "outputId": "1d0576b2-cf26-4d38-ba0f-c85c5ef072c0"
      },
      "execution_count": 20,
      "outputs": [
        {
          "output_type": "stream",
          "name": "stdout",
          "text": [
            "10\n"
          ]
        }
      ]
    },
    {
      "cell_type": "code",
      "source": [
        "#find factorial of number by using recursion\n",
        "def fact(num):\n",
        "  if num == 0 or num == 1:\n",
        "    return 1\n",
        "  return num * fact(num-1)\n",
        "x = fact(5)\n",
        "print(\"factorial or number = \",x)"
      ],
      "metadata": {
        "id": "DW9HNvtPfdkQ",
        "colab": {
          "base_uri": "https://localhost:8080/"
        },
        "outputId": "baee36f8-9f68-4423-e0d3-0b48fb9db9b7"
      },
      "execution_count": 21,
      "outputs": [
        {
          "output_type": "stream",
          "name": "stdout",
          "text": [
            "factorial or number =  120\n"
          ]
        }
      ]
    },
    {
      "cell_type": "code",
      "source": [
        "#reverse an array using recursion\n",
        "\n",
        "def func(arr,left,right):\n",
        "  if left>=right:\n",
        "    return\n",
        "  arr[left],arr[right]=arr[right],arr[left]\n",
        "  func(arr,left+1,right-1)\n",
        "def reverse_arr(arr,left,right):\n",
        "  func(arr,left,right)\n",
        "  return arr\n",
        "arr = [5,7,3,2,6,1,5,9]\n",
        "reversed_arr = reverse_arr(arr, 0, len(arr) - 1)\n",
        "print(reversed_arr)"
      ],
      "metadata": {
        "id": "qMKv8k1WfzjR",
        "colab": {
          "base_uri": "https://localhost:8080/"
        },
        "outputId": "0c73d759-01cf-4053-a3c9-2c864278a9b9"
      },
      "execution_count": 22,
      "outputs": [
        {
          "output_type": "stream",
          "name": "stdout",
          "text": [
            "[9, 5, 1, 6, 2, 3, 7, 5]\n"
          ]
        }
      ]
    },
    {
      "cell_type": "code",
      "source": [
        "s = 'NITIN'\n",
        "n = len(s)\n",
        "left = 0\n",
        "right = n - 1\n",
        "is_palindrome = True\n",
        "while left < right:\n",
        "    if s[left] != s[right]:\n",
        "        is_palindrome = False\n",
        "        break\n",
        "    left += 1\n",
        "    right -= 1\n",
        "print(is_palindrome)\n"
      ],
      "metadata": {
        "id": "LZwwMRMRiqDx",
        "colab": {
          "base_uri": "https://localhost:8080/"
        },
        "outputId": "5c1a8663-5228-475c-c261-7562a0f0ab04"
      },
      "execution_count": 23,
      "outputs": [
        {
          "output_type": "stream",
          "name": "stdout",
          "text": [
            "True\n"
          ]
        }
      ]
    },
    {
      "cell_type": "code",
      "source": [
        "#using recursion\n",
        "def func(s,left,right):\n",
        "  if left>=right:\n",
        "    return True\n",
        "  if s[left] != s[right]:\n",
        "    return False\n",
        "  return func(s,left+1,right-1)\n",
        "s = \"nitin\"\n",
        "if func(s, 0, len(s)-1):\n",
        "  print(\"han hai bhai yeh palindrom = \",s)\n",
        "else:\n",
        "  print(\" chutiya hai kya , padha likha nahi hai tu = \",s)"
      ],
      "metadata": {
        "colab": {
          "base_uri": "https://localhost:8080/"
        },
        "id": "ReVPFY8MoOWJ",
        "outputId": "37225639-ee47-4e39-8a87-4c3ced680d0a"
      },
      "execution_count": 24,
      "outputs": [
        {
          "output_type": "stream",
          "name": "stdout",
          "text": [
            "han hai bhai yeh palindrom =  nitin\n"
          ]
        }
      ]
    },
    {
      "cell_type": "code",
      "source": [
        "class Solution:\n",
        "    def fib(self, num):\n",
        "        def recur(n):\n",
        "            if n == 0 or n == 1:\n",
        "                return n\n",
        "            return recur(n - 1) + recur(n - 2)\n",
        "        ans = []\n",
        "        for i in range(num + 1):\n",
        "            ans.append(recur(i))\n",
        "        return ans\n",
        "sol = Solution()\n",
        "n = 6\n",
        "print(sol.fib(n))"
      ],
      "metadata": {
        "id": "E43i1-o_rDqa",
        "colab": {
          "base_uri": "https://localhost:8080/"
        },
        "outputId": "9c1e950e-35de-46eb-adb1-63f9a2a4fae8"
      },
      "execution_count": 26,
      "outputs": [
        {
          "output_type": "stream",
          "name": "stdout",
          "text": [
            "[0, 1, 1, 2, 3, 5, 8]\n"
          ]
        }
      ]
    },
    {
      "cell_type": "code",
      "source": [
        "#selection sort in asscending order\n",
        "def selection_sort(nums):\n",
        "  n = len(nums)\n",
        "  for i in range(0,n):\n",
        "    mini_index = i\n",
        "    for j in range(i+1,n):\n",
        "      if nums[j]<nums[mini_index]:\n",
        "        mini_index = j\n",
        "    nums[i],nums[mini_index] = nums[mini_index],nums[i]\n",
        "  return nums\n",
        "nums = [5,7,8,3,4,1,6,9,2]\n",
        "sorted_nums = selection_sort(nums)\n",
        "print(\"sorted nums = \",sorted_nums)"
      ],
      "metadata": {
        "id": "pKoPqiJEY47W",
        "colab": {
          "base_uri": "https://localhost:8080/"
        },
        "outputId": "07e792ee-d4d8-45d8-98e5-220c6769932e"
      },
      "execution_count": 32,
      "outputs": [
        {
          "output_type": "stream",
          "name": "stdout",
          "text": [
            "sorted nums =  [1, 2, 3, 4, 5, 6, 7, 8, 9]\n"
          ]
        }
      ]
    },
    {
      "cell_type": "code",
      "source": [],
      "metadata": {
        "id": "wmeV5Oydy_Rq"
      },
      "execution_count": null,
      "outputs": []
    }
  ]
}